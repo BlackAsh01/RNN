{
 "cells": [
  {
   "cell_type": "code",
   "execution_count": 1,
   "id": "25ee538f",
   "metadata": {},
   "outputs": [],
   "source": [
    "import numpy as np\n",
    "import pandas as pd\n",
    "import matplotlib.pyplot as plt\n",
    "import seaborn as sns\n",
    "import tensorflow as tf\n",
    "from sklearn.model_selection import train_test_split\n",
    "from sklearn.metrics import classification_report, confusion_matrix, accuracy_score\n",
    "from sklearn.feature_extraction.text import TfidfVectorizer\n",
    "from sklearn.linear_model import LogisticRegression\n",
    "import warnings\n",
    "warnings.simplefilter('ignore')"
   ]
  },
  {
   "cell_type": "code",
   "execution_count": 2,
   "id": "05b9105e",
   "metadata": {},
   "outputs": [],
   "source": [
    "data = pd.read_csv(\"drugss.csv\")"
   ]
  },
  {
   "cell_type": "code",
   "execution_count": 3,
   "id": "561abd80",
   "metadata": {},
   "outputs": [
    {
     "data": {
      "text/html": [
       "<div>\n",
       "<style scoped>\n",
       "    .dataframe tbody tr th:only-of-type {\n",
       "        vertical-align: middle;\n",
       "    }\n",
       "\n",
       "    .dataframe tbody tr th {\n",
       "        vertical-align: top;\n",
       "    }\n",
       "\n",
       "    .dataframe thead th {\n",
       "        text-align: right;\n",
       "    }\n",
       "</style>\n",
       "<table border=\"1\" class=\"dataframe\">\n",
       "  <thead>\n",
       "    <tr style=\"text-align: right;\">\n",
       "      <th></th>\n",
       "      <th>uniqueID</th>\n",
       "      <th>drugName</th>\n",
       "      <th>condition</th>\n",
       "      <th>review</th>\n",
       "      <th>rating</th>\n",
       "      <th>date</th>\n",
       "      <th>usefulCount</th>\n",
       "    </tr>\n",
       "  </thead>\n",
       "  <tbody>\n",
       "    <tr>\n",
       "      <th>0</th>\n",
       "      <td>70731</td>\n",
       "      <td>Abacavir / dolutegravir / lamivudine</td>\n",
       "      <td>HIV Infection</td>\n",
       "      <td>\"Thought I would be the first to post as I was...</td>\n",
       "      <td>10</td>\n",
       "      <td>11-Dec-14</td>\n",
       "      <td>76</td>\n",
       "    </tr>\n",
       "    <tr>\n",
       "      <th>1</th>\n",
       "      <td>94806</td>\n",
       "      <td>Abilify</td>\n",
       "      <td>Autism</td>\n",
       "      <td>\"My stepson is now 13 years old and has been o...</td>\n",
       "      <td>10</td>\n",
       "      <td>7-Feb-14</td>\n",
       "      <td>141</td>\n",
       "    </tr>\n",
       "    <tr>\n",
       "      <th>2</th>\n",
       "      <td>94980</td>\n",
       "      <td>Abilify</td>\n",
       "      <td>Autism</td>\n",
       "      <td>\"My 10 year old son, was on Risperdal and it w...</td>\n",
       "      <td>8</td>\n",
       "      <td>27-Aug-11</td>\n",
       "      <td>105</td>\n",
       "    </tr>\n",
       "    <tr>\n",
       "      <th>3</th>\n",
       "      <td>94955</td>\n",
       "      <td>Abilify</td>\n",
       "      <td>Autism</td>\n",
       "      <td>\"Abilify works wonders, but it can have long t...</td>\n",
       "      <td>10</td>\n",
       "      <td>9-Dec-09</td>\n",
       "      <td>103</td>\n",
       "    </tr>\n",
       "    <tr>\n",
       "      <th>4</th>\n",
       "      <td>94764</td>\n",
       "      <td>Abilify</td>\n",
       "      <td>Autism</td>\n",
       "      <td>\"After much deliberation and many, many meetin...</td>\n",
       "      <td>5</td>\n",
       "      <td>18-Nov-13</td>\n",
       "      <td>103</td>\n",
       "    </tr>\n",
       "  </tbody>\n",
       "</table>\n",
       "</div>"
      ],
      "text/plain": [
       "   uniqueID                              drugName      condition  \\\n",
       "0     70731  Abacavir / dolutegravir / lamivudine  HIV Infection   \n",
       "1     94806                               Abilify         Autism   \n",
       "2     94980                               Abilify         Autism   \n",
       "3     94955                               Abilify         Autism   \n",
       "4     94764                               Abilify         Autism   \n",
       "\n",
       "                                              review  rating       date  \\\n",
       "0  \"Thought I would be the first to post as I was...      10  11-Dec-14   \n",
       "1  \"My stepson is now 13 years old and has been o...      10   7-Feb-14   \n",
       "2  \"My 10 year old son, was on Risperdal and it w...       8  27-Aug-11   \n",
       "3  \"Abilify works wonders, but it can have long t...      10   9-Dec-09   \n",
       "4  \"After much deliberation and many, many meetin...       5  18-Nov-13   \n",
       "\n",
       "   usefulCount  \n",
       "0           76  \n",
       "1          141  \n",
       "2          105  \n",
       "3          103  \n",
       "4          103  "
      ]
     },
     "execution_count": 3,
     "metadata": {},
     "output_type": "execute_result"
    }
   ],
   "source": [
    "data.head()"
   ]
  },
  {
   "cell_type": "code",
   "execution_count": 4,
   "id": "95c1ac79",
   "metadata": {},
   "outputs": [
    {
     "name": "stdout",
     "output_type": "stream",
     "text": [
      "<class 'pandas.core.frame.DataFrame'>\n",
      "RangeIndex: 11332 entries, 0 to 11331\n",
      "Data columns (total 7 columns):\n",
      " #   Column       Non-Null Count  Dtype \n",
      "---  ------       --------------  ----- \n",
      " 0   uniqueID     11332 non-null  int64 \n",
      " 1   drugName     11332 non-null  object\n",
      " 2   condition    11332 non-null  object\n",
      " 3   review       11332 non-null  object\n",
      " 4   rating       11332 non-null  int64 \n",
      " 5   date         11332 non-null  object\n",
      " 6   usefulCount  11332 non-null  int64 \n",
      "dtypes: int64(3), object(4)\n",
      "memory usage: 619.8+ KB\n"
     ]
    }
   ],
   "source": [
    "data.info()"
   ]
  },
  {
   "cell_type": "code",
   "execution_count": 5,
   "id": "5ea1d016",
   "metadata": {},
   "outputs": [
    {
     "name": "stdout",
     "output_type": "stream",
     "text": [
      "Col name :  uniqueID unique percentage :  1.0\n",
      "Col name :  drugName unique percentage :  0.10095305330038828\n",
      "Col name :  condition unique percentage :  0.03679844687610307\n",
      "Col name :  review unique percentage :  0.7034062830921285\n",
      "Col name :  rating unique percentage :  0.0008824567596187787\n",
      "Col name :  date unique percentage :  0.2627073773385104\n",
      "Col name :  usefulCount unique percentage :  0.020472996823155665\n"
     ]
    }
   ],
   "source": [
    "for col in data.columns:\n",
    "    print(\"Col name : \", col, \"unique percentage : \", len(data[col].unique())/len(data))"
   ]
  },
  {
   "cell_type": "code",
   "execution_count": 6,
   "id": "2d343144",
   "metadata": {},
   "outputs": [
    {
     "data": {
      "text/plain": [
       "uniqueID       0\n",
       "drugName       0\n",
       "condition      0\n",
       "review         0\n",
       "rating         0\n",
       "date           0\n",
       "usefulCount    0\n",
       "dtype: int64"
      ]
     },
     "execution_count": 6,
     "metadata": {},
     "output_type": "execute_result"
    }
   ],
   "source": [
    "data.isnull().sum()"
   ]
  },
  {
   "cell_type": "code",
   "execution_count": 7,
   "id": "e4ba212f",
   "metadata": {},
   "outputs": [
    {
     "name": "stdout",
     "output_type": "stream",
     "text": [
      "<class 'pandas.core.frame.DataFrame'>\n",
      "RangeIndex: 11332 entries, 0 to 11331\n",
      "Data columns (total 7 columns):\n",
      " #   Column       Non-Null Count  Dtype \n",
      "---  ------       --------------  ----- \n",
      " 0   uniqueID     11332 non-null  int64 \n",
      " 1   drugName     11332 non-null  object\n",
      " 2   condition    11332 non-null  object\n",
      " 3   review       11332 non-null  object\n",
      " 4   rating       11332 non-null  int64 \n",
      " 5   date         11332 non-null  object\n",
      " 6   usefulCount  11332 non-null  int64 \n",
      "dtypes: int64(3), object(4)\n",
      "memory usage: 619.8+ KB\n"
     ]
    }
   ],
   "source": [
    "data.info()"
   ]
  },
  {
   "cell_type": "code",
   "execution_count": 8,
   "id": "df216f4c",
   "metadata": {},
   "outputs": [
    {
     "data": {
      "text/plain": [
       "(11332, 7)"
      ]
     },
     "execution_count": 8,
     "metadata": {},
     "output_type": "execute_result"
    }
   ],
   "source": [
    "data.shape"
   ]
  },
  {
   "cell_type": "code",
   "execution_count": 9,
   "id": "cd28f84a",
   "metadata": {},
   "outputs": [],
   "source": [
    "# Combine 'condition' and 'review' columns into a single feature column\n",
    "X = data['condition'] + ' ' + data['review']\n",
    "\n",
    "# Target variable: 'drugName' or a binary variable indicating drug recommendation\n",
    "Y = data['drugName']"
   ]
  },
  {
   "cell_type": "code",
   "execution_count": 10,
   "id": "de2091a6",
   "metadata": {},
   "outputs": [],
   "source": [
    "# Split the data into training and testing sets\n",
    "X_train, X_test, Y_train, Y_test = train_test_split(X, Y, test_size=0.2, random_state=42)"
   ]
  },
  {
   "cell_type": "code",
   "execution_count": 11,
   "id": "66bce43b",
   "metadata": {},
   "outputs": [],
   "source": [
    "# Convert text data to numerical features using TF-IDF vectorization\n",
    "vectorizer = TfidfVectorizer(stop_words='english', max_features=5000)  # Adjust max_features as needed\n",
    "X_train_tfidf = vectorizer.fit_transform(X_train)\n",
    "X_test_tfidf = vectorizer.transform(X_test)"
   ]
  },
  {
   "cell_type": "code",
   "execution_count": null,
   "id": "f39d5e31",
   "metadata": {},
   "outputs": [],
   "source": [
    "logreg_model = LogisticRegression()\n",
    "logreg_model.fit(X_train_tfidf, Y_train)"
   ]
  },
  {
   "cell_type": "code",
   "execution_count": null,
   "id": "97d825aa",
   "metadata": {},
   "outputs": [],
   "source": [
    "# Make predictions on the test set\n",
    "Y_pred_logreg = logreg_model.predict(X_test_tfidf)"
   ]
  },
  {
   "cell_type": "code",
   "execution_count": null,
   "id": "8a8317bb",
   "metadata": {},
   "outputs": [],
   "source": [
    "# Evaluate the model\n",
    "accuracy = accuracy_score(Y_test, Y_pred_logreg)\n",
    "print(f\"Accuracy: {accuracy:}\")"
   ]
  },
  {
   "cell_type": "code",
   "execution_count": null,
   "id": "3313cc35",
   "metadata": {},
   "outputs": [],
   "source": [
    "print(classification_report(Y_test, Y_pred_logreg))"
   ]
  }
 ],
 "metadata": {
  "kernelspec": {
   "display_name": "Python 3 (ipykernel)",
   "language": "python",
   "name": "python3"
  },
  "language_info": {
   "codemirror_mode": {
    "name": "ipython",
    "version": 3
   },
   "file_extension": ".py",
   "mimetype": "text/x-python",
   "name": "python",
   "nbconvert_exporter": "python",
   "pygments_lexer": "ipython3",
   "version": "3.11.3"
  }
 },
 "nbformat": 4,
 "nbformat_minor": 5
}
